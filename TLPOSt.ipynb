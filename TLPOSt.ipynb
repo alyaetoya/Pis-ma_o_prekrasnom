{
 "cells": [
  {
   "cell_type": "code",
   "execution_count": 1,
   "id": "6be9e72e",
   "metadata": {
    "scrolled": true
   },
   "outputs": [
    {
     "name": "stdout",
     "output_type": "stream",
     "text": [
      "Requirement already satisfied: stanza in ./anaconda3/lib/python3.11/site-packages (1.9.2)\n",
      "Requirement already satisfied: emoji in ./anaconda3/lib/python3.11/site-packages (from stanza) (2.14.0)\n",
      "Requirement already satisfied: numpy in ./anaconda3/lib/python3.11/site-packages (from stanza) (1.24.3)\n",
      "Requirement already satisfied: protobuf>=3.15.0 in ./anaconda3/lib/python3.11/site-packages (from stanza) (5.28.3)\n",
      "Requirement already satisfied: requests in ./anaconda3/lib/python3.11/site-packages (from stanza) (2.31.0)\n",
      "Requirement already satisfied: networkx in ./anaconda3/lib/python3.11/site-packages (from stanza) (3.1)\n",
      "Requirement already satisfied: torch>=1.3.0 in ./anaconda3/lib/python3.11/site-packages (from stanza) (2.5.1)\n",
      "Requirement already satisfied: tqdm in ./anaconda3/lib/python3.11/site-packages (from stanza) (4.65.0)\n",
      "Requirement already satisfied: filelock in ./anaconda3/lib/python3.11/site-packages (from torch>=1.3.0->stanza) (3.9.0)\n",
      "Requirement already satisfied: typing-extensions>=4.8.0 in ./anaconda3/lib/python3.11/site-packages (from torch>=1.3.0->stanza) (4.12.2)\n",
      "Requirement already satisfied: jinja2 in ./anaconda3/lib/python3.11/site-packages (from torch>=1.3.0->stanza) (3.1.2)\n",
      "Requirement already satisfied: fsspec in ./anaconda3/lib/python3.11/site-packages (from torch>=1.3.0->stanza) (2023.4.0)\n",
      "Requirement already satisfied: sympy==1.13.1 in ./anaconda3/lib/python3.11/site-packages (from torch>=1.3.0->stanza) (1.13.1)\n",
      "Requirement already satisfied: mpmath<1.4,>=1.1.0 in ./anaconda3/lib/python3.11/site-packages (from sympy==1.13.1->torch>=1.3.0->stanza) (1.3.0)\n",
      "Requirement already satisfied: charset-normalizer<4,>=2 in ./anaconda3/lib/python3.11/site-packages (from requests->stanza) (2.0.4)\n",
      "Requirement already satisfied: idna<4,>=2.5 in ./anaconda3/lib/python3.11/site-packages (from requests->stanza) (3.4)\n",
      "Requirement already satisfied: urllib3<3,>=1.21.1 in ./anaconda3/lib/python3.11/site-packages (from requests->stanza) (1.26.16)\n",
      "Requirement already satisfied: certifi>=2017.4.17 in ./anaconda3/lib/python3.11/site-packages (from requests->stanza) (2023.11.17)\n",
      "Requirement already satisfied: MarkupSafe>=2.0 in ./anaconda3/lib/python3.11/site-packages (from jinja2->torch>=1.3.0->stanza) (2.1.1)\n"
     ]
    }
   ],
   "source": [
    "!pip install stanza"
   ]
  },
  {
   "cell_type": "code",
   "execution_count": 2,
   "id": "64d78857",
   "metadata": {},
   "outputs": [
    {
     "data": {
      "application/vnd.jupyter.widget-view+json": {
       "model_id": "92f76a6b0f18437e8fb0063850f661fa",
       "version_major": 2,
       "version_minor": 0
      },
      "text/plain": [
       "Downloading https://raw.githubusercontent.com/stanfordnlp/stanza-resources/main/resources_1.9.0.json:   0%|   …"
      ]
     },
     "metadata": {},
     "output_type": "display_data"
    },
    {
     "name": "stderr",
     "output_type": "stream",
     "text": [
      "2024-10-30 20:22:02 INFO: Downloaded file to /Users/alevtinashirokova/stanza_resources/resources.json\n",
      "2024-10-30 20:22:02 INFO: Downloading default packages for language: ru (Russian) ...\n",
      "2024-10-30 20:22:05 INFO: File exists: /Users/alevtinashirokova/stanza_resources/ru/default.zip\n",
      "2024-10-30 20:22:10 INFO: Finished downloading models and saved to /Users/alevtinashirokova/stanza_resources\n",
      "2024-10-30 20:22:10 INFO: Checking for updates to resources.json in case models have been updated.  Note: this behavior can be turned off with download_method=None or download_method=DownloadMethod.REUSE_RESOURCES\n"
     ]
    },
    {
     "data": {
      "application/vnd.jupyter.widget-view+json": {
       "model_id": "11d3e8a95fbd483891f090d559dad2ce",
       "version_major": 2,
       "version_minor": 0
      },
      "text/plain": [
       "Downloading https://raw.githubusercontent.com/stanfordnlp/stanza-resources/main/resources_1.9.0.json:   0%|   …"
      ]
     },
     "metadata": {},
     "output_type": "display_data"
    },
    {
     "name": "stderr",
     "output_type": "stream",
     "text": [
      "2024-10-30 20:22:10 INFO: Downloaded file to /Users/alevtinashirokova/stanza_resources/resources.json\n",
      "2024-10-30 20:22:11 INFO: Loading these models for language: ru (Russian):\n",
      "==================================\n",
      "| Processor | Package            |\n",
      "----------------------------------\n",
      "| tokenize  | syntagrus          |\n",
      "| pos       | syntagrus_charlm   |\n",
      "| lemma     | syntagrus_nocharlm |\n",
      "==================================\n",
      "\n",
      "2024-10-30 20:22:11 INFO: Using device: cpu\n",
      "2024-10-30 20:22:11 INFO: Loading: tokenize\n",
      "/Users/alevtinashirokova/anaconda3/lib/python3.11/site-packages/stanza/models/tokenization/trainer.py:82: FutureWarning: You are using `torch.load` with `weights_only=False` (the current default value), which uses the default pickle module implicitly. It is possible to construct malicious pickle data which will execute arbitrary code during unpickling (See https://github.com/pytorch/pytorch/blob/main/SECURITY.md#untrusted-models for more details). In a future release, the default value for `weights_only` will be flipped to `True`. This limits the functions that could be executed during unpickling. Arbitrary objects will no longer be allowed to be loaded via this mode unless they are explicitly allowlisted by the user via `torch.serialization.add_safe_globals`. We recommend you start setting `weights_only=True` for any use case where you don't have full control of the loaded file. Please open an issue on GitHub for any issues related to this experimental feature.\n",
      "  checkpoint = torch.load(filename, lambda storage, loc: storage)\n",
      "2024-10-30 20:22:12 INFO: Loading: pos\n",
      "/Users/alevtinashirokova/anaconda3/lib/python3.11/site-packages/stanza/models/pos/trainer.py:139: FutureWarning: You are using `torch.load` with `weights_only=False` (the current default value), which uses the default pickle module implicitly. It is possible to construct malicious pickle data which will execute arbitrary code during unpickling (See https://github.com/pytorch/pytorch/blob/main/SECURITY.md#untrusted-models for more details). In a future release, the default value for `weights_only` will be flipped to `True`. This limits the functions that could be executed during unpickling. Arbitrary objects will no longer be allowed to be loaded via this mode unless they are explicitly allowlisted by the user via `torch.serialization.add_safe_globals`. We recommend you start setting `weights_only=True` for any use case where you don't have full control of the loaded file. Please open an issue on GitHub for any issues related to this experimental feature.\n",
      "  checkpoint = torch.load(filename, lambda storage, loc: storage)\n",
      "/Users/alevtinashirokova/anaconda3/lib/python3.11/site-packages/stanza/models/common/pretrain.py:56: FutureWarning: You are using `torch.load` with `weights_only=False` (the current default value), which uses the default pickle module implicitly. It is possible to construct malicious pickle data which will execute arbitrary code during unpickling (See https://github.com/pytorch/pytorch/blob/main/SECURITY.md#untrusted-models for more details). In a future release, the default value for `weights_only` will be flipped to `True`. This limits the functions that could be executed during unpickling. Arbitrary objects will no longer be allowed to be loaded via this mode unless they are explicitly allowlisted by the user via `torch.serialization.add_safe_globals`. We recommend you start setting `weights_only=True` for any use case where you don't have full control of the loaded file. Please open an issue on GitHub for any issues related to this experimental feature.\n",
      "  data = torch.load(self.filename, lambda storage, loc: storage)\n",
      "/Users/alevtinashirokova/anaconda3/lib/python3.11/site-packages/stanza/models/common/char_model.py:271: FutureWarning: You are using `torch.load` with `weights_only=False` (the current default value), which uses the default pickle module implicitly. It is possible to construct malicious pickle data which will execute arbitrary code during unpickling (See https://github.com/pytorch/pytorch/blob/main/SECURITY.md#untrusted-models for more details). In a future release, the default value for `weights_only` will be flipped to `True`. This limits the functions that could be executed during unpickling. Arbitrary objects will no longer be allowed to be loaded via this mode unless they are explicitly allowlisted by the user via `torch.serialization.add_safe_globals`. We recommend you start setting `weights_only=True` for any use case where you don't have full control of the loaded file. Please open an issue on GitHub for any issues related to this experimental feature.\n",
      "  state = torch.load(filename, lambda storage, loc: storage)\n",
      "2024-10-30 20:22:12 INFO: Loading: lemma\n",
      "/Users/alevtinashirokova/anaconda3/lib/python3.11/site-packages/stanza/models/lemma/trainer.py:239: FutureWarning: You are using `torch.load` with `weights_only=False` (the current default value), which uses the default pickle module implicitly. It is possible to construct malicious pickle data which will execute arbitrary code during unpickling (See https://github.com/pytorch/pytorch/blob/main/SECURITY.md#untrusted-models for more details). In a future release, the default value for `weights_only` will be flipped to `True`. This limits the functions that could be executed during unpickling. Arbitrary objects will no longer be allowed to be loaded via this mode unless they are explicitly allowlisted by the user via `torch.serialization.add_safe_globals`. We recommend you start setting `weights_only=True` for any use case where you don't have full control of the loaded file. Please open an issue on GitHub for any issues related to this experimental feature.\n",
      "  checkpoint = torch.load(filename, lambda storage, loc: storage)\n",
      "2024-10-30 20:22:12 INFO: Done loading processors!\n"
     ]
    }
   ],
   "source": [
    "# Инициализация Stanza и pandas, и также os для порционной обработки\n",
    "import os\n",
    "import pandas as pd\n",
    "import stanza\n",
    "stanza.download('ru')\n",
    "nlp = stanza.Pipeline('ru', processors='tokenize,pos,lemma')"
   ]
  },
  {
   "cell_type": "code",
   "execution_count": 3,
   "id": "9a95d07e",
   "metadata": {
    "scrolled": true
   },
   "outputs": [],
   "source": [
    "# Загрузка CSV-файла\n",
    "input_file_path = 'parsed_blocks.csv'\n",
    "output_file_path = 'parsed_blocks_with_nlp.csv'\n",
    "data = pd.read_csv(input_file_path, sep=';', on_bad_lines='skip')  # Указываем ; как разделитель"
   ]
  },
  {
   "cell_type": "code",
   "execution_count": 4,
   "id": "33dfe7f4",
   "metadata": {},
   "outputs": [
    {
     "name": "stdout",
     "output_type": "stream",
     "text": [
      "Обработка строк 1 - 100\n",
      "Обработка строк 101 - 200\n",
      "Обработка строк 201 - 300\n",
      "Обработка строк 301 - 400\n",
      "Обработка строк 401 - 500\n",
      "Обработка строк 501 - 600\n",
      "Обработка строк 601 - 700\n",
      "Обработка строк 701 - 800\n",
      "Обработка строк 801 - 900\n",
      "Обработка строк 901 - 1000\n",
      "Обработка строк 1001 - 1100\n",
      "Обработка строк 1101 - 1200\n",
      "Обработка строк 1201 - 1300\n",
      "Обработка строк 1301 - 1400\n",
      "Обработка строк 1401 - 1500\n",
      "Обработка строк 1501 - 1600\n",
      "Обработка строк 1601 - 1700\n",
      "Обработка строк 1701 - 1800\n",
      "Обработка строк 1801 - 1900\n",
      "Обработка строк 1901 - 2000\n",
      "Обработка строк 2001 - 2089\n"
     ]
    }
   ],
   "source": [
    "# Если результирующий файл существует, продолжим обработку с последнего сохранения\n",
    "if os.path.exists(output_file_path):\n",
    "    processed_data = pd.read_csv(output_file_path, sep=';')\n",
    "else:\n",
    "    # Иначе создаем новый DataFrame и добавляем новые столбцы для токенов, лемм и POS-тегов\n",
    "    processed_data = data[['Meta', 'Sentence']].copy()\n",
    "    processed_data['Tokens'] = None\n",
    "    processed_data['Lemmas'] = None\n",
    "    processed_data['POS'] = None\n",
    "\n",
    "# Указываем размер порции\n",
    "batch_size = 100  # Количество предложений на одну порцию\n",
    "start_index = len(processed_data.dropna())  # Начнем с последней обработанной строки\n",
    "\n",
    "# Цикл обработки порциями\n",
    "for i in range(start_index, len(data), batch_size):\n",
    "    batch = data.iloc[i:i + batch_size]\n",
    "    print(f\"Обработка строк {i+1} - {i+len(batch)}\")\n",
    "\n",
    "    # Обработка каждой строки в порции\n",
    "    for j, row in batch.iterrows():\n",
    "        sentence = row['Sentence']\n",
    "        doc = nlp(sentence)\n",
    "\n",
    "        tokens = [word.text for sent in doc.sentences for word in sent.words]\n",
    "        lemmas = [word.lemma for sent in doc.sentences for word in sent.words]\n",
    "        pos_tags = [word.upos for sent in doc.sentences for word in sent.words]\n",
    "\n",
    "        # Добавляем результаты в DataFrame\n",
    "        processed_data.at[j, 'Tokens'] = ' '.join(tokens)\n",
    "        processed_data.at[j, 'Lemmas'] = ' '.join(lemmas)\n",
    "        processed_data.at[j, 'POS'] = ' '.join(pos_tags)"
   ]
  },
  {
   "cell_type": "code",
   "execution_count": 6,
   "id": "17851bbb",
   "metadata": {},
   "outputs": [
    {
     "name": "stdout",
     "output_type": "stream",
     "text": [
      "Сохранение результатов до строки 2089 в parsed_blocks_with_nlp.csv\n"
     ]
    }
   ],
   "source": [
    " # Сохраняем результаты текущей порции в CSV\n",
    "processed_data.to_csv(output_file_path, index=False, sep=';')\n",
    "print(f\"Сохранение результатов до строки {i+len(batch)} в {output_file_path}\")"
   ]
  },
  {
   "cell_type": "code",
   "execution_count": 7,
   "id": "a303618a",
   "metadata": {},
   "outputs": [
    {
     "name": "stdout",
     "output_type": "stream",
     "text": [
      "Обработка завершена!\n"
     ]
    }
   ],
   "source": [
    "print(\"Обработка завершена!\")"
   ]
  }
 ],
 "metadata": {
  "kernelspec": {
   "display_name": "Python 3 (ipykernel)",
   "language": "python",
   "name": "python3"
  },
  "language_info": {
   "codemirror_mode": {
    "name": "ipython",
    "version": 3
   },
   "file_extension": ".py",
   "mimetype": "text/x-python",
   "name": "python",
   "nbconvert_exporter": "python",
   "pygments_lexer": "ipython3",
   "version": "3.11.5"
  }
 },
 "nbformat": 4,
 "nbformat_minor": 5
}
